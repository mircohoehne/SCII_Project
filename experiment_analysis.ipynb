{
 "cells": [
  {
   "cell_type": "code",
   "execution_count": 1,
   "outputs": [],
   "source": [
    "import pandas as pd\n",
    "import numpy as np"
   ],
   "metadata": {
    "collapsed": false,
    "ExecuteTime": {
     "start_time": "2023-08-25T11:46:30.647566Z",
     "end_time": "2023-08-25T11:46:30.866528Z"
    }
   }
  },
  {
   "cell_type": "code",
   "execution_count": 2,
   "outputs": [],
   "source": [
    "# import customer logs\n",
    "cust_log1 = pd.read_csv('logs/customer_log1.csv')\n",
    "cust_log2 = pd.read_csv('logs/customer_log2.csv')\n",
    "cust_log3 = pd.read_csv('logs/customer_log3.csv')\n",
    "# import event logs\n",
    "ev_log1 = pd.read_csv('logs/event_log1.csv')\n",
    "ev_log2 = pd.read_csv('logs/event_log2.csv')\n",
    "ev_log3 = pd.read_csv('logs/event_log3.csv')\n",
    "# import queue logs\n",
    "qu_log1 = pd.read_csv('logs/queue_log1.csv')\n",
    "qu_log1.set_index(\"time\", inplace=True)\n",
    "qu_log2 = pd.read_csv('logs/queue_log2.csv')\n",
    "qu_log2.set_index(\"time\", inplace=True)\n",
    "qu_log3 = pd.read_csv('logs/queue_log3.csv')\n",
    "qu_log3.set_index(\"time\", inplace=True)"
   ],
   "metadata": {
    "collapsed": false,
    "ExecuteTime": {
     "start_time": "2023-08-25T11:46:31.494861Z",
     "end_time": "2023-08-25T11:46:31.529145Z"
    }
   }
  },
  {
   "cell_type": "code",
   "execution_count": 3,
   "outputs": [
    {
     "data": {
      "text/plain": "Text(0.5, 0, 'Time from queuing to checkout')"
     },
     "execution_count": 3,
     "metadata": {},
     "output_type": "execute_result"
    },
    {
     "data": {
      "text/plain": "<Figure size 432x288 with 1 Axes>",
      "image/png": "[encoded data removed]"
     },
     "metadata": {
      "needs_background": "light"
     },
     "output_type": "display_data"
    }
   ],
   "source": [
    "cust_log1['time from queuing to checkout'].plot(kind='hist').set_xlabel('Time from queuing to checkout')"
   ],
   "metadata": {
    "collapsed": false,
    "ExecuteTime": {
     "start_time": "2023-08-25T11:46:32.097246Z",
     "end_time": "2023-08-25T11:46:32.530609Z"
    }
   }
  },
  {
   "cell_type": "code",
   "execution_count": 4,
   "outputs": [
    {
     "data": {
      "text/plain": "Text(0.5, 0, 'Time from queuing to checkout')"
     },
     "execution_count": 4,
     "metadata": {},
     "output_type": "execute_result"
    },
    {
     "data": {
      "text/plain": "<Figure size 432x288 with 1 Axes>",
      "image/png": "[encoded data removed]"
     },
     "metadata": {
      "needs_background": "light"
     },
     "output_type": "display_data"
    }
   ],
   "source": [
    "cust_log2['time from queuing to checkout'].plot(kind='hist').set_xlabel('Time from queuing to checkout')"
   ],
   "metadata": {
    "collapsed": false,
    "ExecuteTime": {
     "start_time": "2023-08-25T11:46:32.614816Z",
     "end_time": "2023-08-25T11:46:32.675649Z"
    }
   }
  },
  {
   "cell_type": "code",
   "execution_count": 5,
   "outputs": [
    {
     "data": {
      "text/plain": "Text(0.5, 0, 'Time from queuing to checkout')"
     },
     "execution_count": 5,
     "metadata": {},
     "output_type": "execute_result"
    },
    {
     "data": {
      "text/plain": "<Figure size 432x288 with 1 Axes>",
      "image/png": "[encoded data removed]"
     },
     "metadata": {
      "needs_background": "light"
     },
     "output_type": "display_data"
    }
   ],
   "source": [
    "cust_log3['time from queuing to checkout'].plot(kind='hist').set_xlabel('Time from queuing to checkout')"
   ],
   "metadata": {
    "collapsed": false,
    "ExecuteTime": {
     "start_time": "2023-08-25T11:46:33.409074Z",
     "end_time": "2023-08-25T11:46:33.485788Z"
    }
   }
  },
  {
   "cell_type": "code",
   "execution_count": 6,
   "outputs": [
    {
     "name": "stdout",
     "output_type": "stream",
     "text": [
      "Der Mittelwert von Experiment 1 ist: 9.066281679626043 Minuten\n",
      "Der Median von Experiment 1 ist: 8.38283224735386 Minuten\n",
      "Der Mittelwert von Experiment 2 ist: 1.9172498531474063 Minuten\n",
      "Der Median von Experiment 2 ist: 1.256735106379718 Minuten\n",
      "Der Mittelwert von Experiment 3 ist: 3.059952869290918 Minuten\n",
      "Der Median von Experiment 3 ist: 2.2903715537719562 Minuten\n"
     ]
    }
   ],
   "source": [
    "print(f\"Der Mittelwert von Experiment 1 ist: {cust_log1['time from queuing to checkout'].mean()/60} Minuten\")\n",
    "print(f\"Der Median von Experiment 1 ist: {cust_log1['time from queuing to checkout'].median()/60} Minuten\")\n",
    "print(f\"Der Mittelwert von Experiment 2 ist: {cust_log2['time from queuing to checkout'].mean()/60} Minuten\")\n",
    "print(f\"Der Median von Experiment 2 ist: {cust_log2['time from queuing to checkout'].median()/60} Minuten\")\n",
    "print(f\"Der Mittelwert von Experiment 3 ist: {cust_log3['time from queuing to checkout'].mean()/60} Minuten\")\n",
    "print(f\"Der Median von Experiment 3 ist: {cust_log3['time from queuing to checkout'].median()/60} Minuten\")"
   ],
   "metadata": {
    "collapsed": false,
    "ExecuteTime": {
     "start_time": "2023-08-25T11:46:34.122683Z",
     "end_time": "2023-08-25T11:46:34.131330Z"
    }
   }
  },
  {
   "cell_type": "code",
   "execution_count": 7,
   "outputs": [
    {
     "name": "stdout",
     "output_type": "stream",
     "text": [
      "Die durchschnittliche Warteschlangenlänge von Experiment 1 beträgt 8 Kunden\n",
      "Die Warteschlangenlänge von Experiment 1 beträgt im Median 8 Kunden\n",
      "Die durchschnittliche Warteschlangenlänge von Experiment 2 beträgt 1 Kunden\n",
      "Die Warteschlangenlänge von Experiment 2 beträgt im Median 1 Kunden\n",
      "Die durchschnittliche Warteschlangenlänge von Experiment 3 beträgt 2 Kunden\n",
      "Die Warteschlangenlänge von Experiment 3 beträgt im Median 2 Kunden\n"
     ]
    }
   ],
   "source": [
    "print(f\"Die durchschnittliche Warteschlangenlänge von Experiment 1 beträgt {int(np.ceil(qu_log1.mean().mean()))} Kunden\")\n",
    "print(f\"Die Warteschlangenlänge von Experiment 1 beträgt im Median {int(np.ceil(qu_log1.median().median()))} Kunden\")\n",
    "print(f\"Die durchschnittliche Warteschlangenlänge von Experiment 2 beträgt {int(np.ceil(qu_log2.mean().mean()))} Kunden\")\n",
    "print(f\"Die Warteschlangenlänge von Experiment 2 beträgt im Median {int(np.ceil(qu_log2.median().median()))} Kunden\")\n",
    "print(f\"Die durchschnittliche Warteschlangenlänge von Experiment 3 beträgt {int(np.ceil(qu_log3.median().median()))} Kunden\")\n",
    "print(f\"Die Warteschlangenlänge von Experiment 3 beträgt im Median {int(np.ceil(qu_log3.median().median()))} Kunden\")"
   ],
   "metadata": {
    "collapsed": false,
    "ExecuteTime": {
     "start_time": "2023-08-25T11:46:34.850547Z",
     "end_time": "2023-08-25T11:46:34.867258Z"
    }
   }
  }
 ],
 "metadata": {
  "kernelspec": {
   "display_name": "Python 3",
   "language": "python",
   "name": "python3"
  },
  "language_info": {
   "codemirror_mode": {
    "name": "ipython",
    "version": 2
   },
   "file_extension": ".py",
   "mimetype": "text/x-python",
   "name": "python",
   "nbconvert_exporter": "python",
   "pygments_lexer": "ipython2",
   "version": "2.7.6"
  }
 },
 "nbformat": 4,
 "nbformat_minor": 0
}
