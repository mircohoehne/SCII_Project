{
 "cells": [
  {
   "cell_type": "code",
   "execution_count": 2,
   "outputs": [],
   "source": [
    "import pandas as pd\n",
    "import seaborn as sns\n",
    "%matplotlib inline\n",
    "import statsmodels.api as sm\n",
    "from fitter import Fitter"
   ],
   "metadata": {
    "collapsed": false,
    "pycharm": {
     "name": "#%%\n"
    }
   }
  },
  {
   "cell_type": "code",
   "execution_count": 3,
   "outputs": [],
   "source": [
    "# load the transaction data\n",
    "df1 = pd.read_csv(\"POS_Data/POS_transactions_20171207-20171219.csv\")\n",
    "df2 = pd.read_csv(\"POS_Data/POS_transactions_20190213-20190226.csv\")\n",
    "df3 = pd.read_csv(\"POS_Data/POS_transactions_20190328-20190410.csv\")\n",
    "\n",
    "data = pd.concat((df1,df2,df3))"
   ],
   "metadata": {
    "collapsed": false,
    "pycharm": {
     "name": "#%%\n"
    }
   }
  },
  {
   "cell_type": "code",
   "execution_count": 4,
   "outputs": [
    {
     "data": {
      "text/plain": "   WorkstationGroupID        TranID        BeginDateTime          EndDateTime  \\\n0                   1  1.712071e+14  2017-12-07T14:23:23  2017-12-07T14:24:36   \n1                   1  1.712071e+14  2017-12-07T14:25:09  2017-12-07T14:27:00   \n2                   1  1.712071e+14  2017-12-07T14:27:28  2017-12-07T14:27:48   \n3                   1  1.712071e+14  2017-12-07T14:28:04  2017-12-07T14:28:29   \n4                   1  1.712071e+14  2017-12-07T14:29:40  2017-12-07T14:30:32   \n\n   OperatorID  TranTime  BreakTime  ArtNum  TNcash  TNcard  Amount  \n0         101        73         33      23    True   False  112.71  \n1         101       111         28      29    True   False   54.76  \n2         101        20         16       3    True   False   14.77  \n3         101        25         71      12    True   False   37.88  \n4         101        52         31       7    True   False  115.34  ",
      "text/html": "<div>\n<style scoped>\n    .dataframe tbody tr th:only-of-type {\n        vertical-align: middle;\n    }\n\n    .dataframe tbody tr th {\n        vertical-align: top;\n    }\n\n    .dataframe thead th {\n        text-align: right;\n    }\n</style>\n<table border=\"1\" class=\"dataframe\">\n  <thead>\n    <tr style=\"text-align: right;\">\n      <th></th>\n      <th>WorkstationGroupID</th>\n      <th>TranID</th>\n      <th>BeginDateTime</th>\n      <th>EndDateTime</th>\n      <th>OperatorID</th>\n      <th>TranTime</th>\n      <th>BreakTime</th>\n      <th>ArtNum</th>\n      <th>TNcash</th>\n      <th>TNcard</th>\n      <th>Amount</th>\n    </tr>\n  </thead>\n  <tbody>\n    <tr>\n      <th>0</th>\n      <td>1</td>\n      <td>1.712071e+14</td>\n      <td>2017-12-07T14:23:23</td>\n      <td>2017-12-07T14:24:36</td>\n      <td>101</td>\n      <td>73</td>\n      <td>33</td>\n      <td>23</td>\n      <td>True</td>\n      <td>False</td>\n      <td>112.71</td>\n    </tr>\n    <tr>\n      <th>1</th>\n      <td>1</td>\n      <td>1.712071e+14</td>\n      <td>2017-12-07T14:25:09</td>\n      <td>2017-12-07T14:27:00</td>\n      <td>101</td>\n      <td>111</td>\n      <td>28</td>\n      <td>29</td>\n      <td>True</td>\n      <td>False</td>\n      <td>54.76</td>\n    </tr>\n    <tr>\n      <th>2</th>\n      <td>1</td>\n      <td>1.712071e+14</td>\n      <td>2017-12-07T14:27:28</td>\n      <td>2017-12-07T14:27:48</td>\n      <td>101</td>\n      <td>20</td>\n      <td>16</td>\n      <td>3</td>\n      <td>True</td>\n      <td>False</td>\n      <td>14.77</td>\n    </tr>\n    <tr>\n      <th>3</th>\n      <td>1</td>\n      <td>1.712071e+14</td>\n      <td>2017-12-07T14:28:04</td>\n      <td>2017-12-07T14:28:29</td>\n      <td>101</td>\n      <td>25</td>\n      <td>71</td>\n      <td>12</td>\n      <td>True</td>\n      <td>False</td>\n      <td>37.88</td>\n    </tr>\n    <tr>\n      <th>4</th>\n      <td>1</td>\n      <td>1.712071e+14</td>\n      <td>2017-12-07T14:29:40</td>\n      <td>2017-12-07T14:30:32</td>\n      <td>101</td>\n      <td>52</td>\n      <td>31</td>\n      <td>7</td>\n      <td>True</td>\n      <td>False</td>\n      <td>115.34</td>\n    </tr>\n  </tbody>\n</table>\n</div>"
     },
     "execution_count": 4,
     "metadata": {},
     "output_type": "execute_result"
    }
   ],
   "source": [
    "data.head()"
   ],
   "metadata": {
    "collapsed": false,
    "pycharm": {
     "name": "#%%\n"
    }
   }
  },
  {
   "cell_type": "code",
   "execution_count": 5,
   "outputs": [
    {
     "data": {
      "text/plain": "<seaborn.axisgrid.FacetGrid at 0x1065874c0>"
     },
     "execution_count": 5,
     "metadata": {},
     "output_type": "execute_result"
    },
    {
     "data": {
      "text/plain": "<Figure size 720x360 with 1 Axes>",
      "image/png": "[encoded data removed]"
     },
     "metadata": {
      "needs_background": "light"
     },
     "output_type": "display_data"
    }
   ],
   "source": [
    "sns.displot(data['ArtNum'], kind='hist',aspect=2)"
   ],
   "metadata": {
    "collapsed": false,
    "pycharm": {
     "name": "#%%\n"
    }
   }
  },
  {
   "cell_type": "code",
   "execution_count": 6,
   "outputs": [],
   "source": [
    "# create numpy array for fitter\n",
    "num_items = data['ArtNum'].values"
   ],
   "metadata": {
    "collapsed": false,
    "pycharm": {
     "name": "#%%\n"
    }
   }
  },
  {
   "cell_type": "code",
   "execution_count": 7,
   "outputs": [
    {
     "name": "stderr",
     "output_type": "stream",
     "text": [
      "WARNING:root:SKIPPED gausshyper distribution (taking more than 30 seconds)\n",
      "WARNING:root:SKIPPED genexpon distribution (taking more than 30 seconds)\n",
      "WARNING:root:SKIPPED genextreme distribution (taking more than 30 seconds)\n",
      "WARNING:root:SKIPPED gengamma distribution (taking more than 30 seconds)\n",
      "WARNING:root:SKIPPED genhalflogistic distribution (taking more than 30 seconds)\n",
      "WARNING:root:SKIPPED genhyperbolic distribution (taking more than 30 seconds)\n",
      "WARNING:root:SKIPPED geninvgauss distribution (taking more than 30 seconds)\n",
      "WARNING:root:SKIPPED genlogistic distribution (taking more than 30 seconds)\n",
      "WARNING:root:SKIPPED genpareto distribution (taking more than 30 seconds)\n",
      "WARNING:root:SKIPPED gompertz distribution (taking more than 30 seconds)\n",
      "WARNING:root:SKIPPED kstwo distribution (taking more than 30 seconds)\n",
      "WARNING:root:SKIPPED invweibull distribution (taking more than 30 seconds)\n",
      "WARNING:root:SKIPPED johnsonsb distribution (taking more than 30 seconds)\n",
      "WARNING:root:SKIPPED johnsonsu distribution (taking more than 30 seconds)\n",
      "WARNING:root:SKIPPED kappa3 distribution (taking more than 30 seconds)\n",
      "WARNING:root:SKIPPED kappa4 distribution (taking more than 30 seconds)\n",
      "WARNING:root:SKIPPED ksone distribution (taking more than 30 seconds)\n",
      "WARNING:root:SKIPPED laplace_asymmetric distribution (taking more than 30 seconds)\n",
      "WARNING:root:SKIPPED levy_l distribution (taking more than 30 seconds)\n",
      "WARNING:root:SKIPPED levy_stable distribution (taking more than 30 seconds)\n",
      "WARNING:root:SKIPPED loggamma distribution (taking more than 30 seconds)\n",
      "WARNING:root:SKIPPED loglaplace distribution (taking more than 30 seconds)\n",
      "WARNING:root:SKIPPED lognorm distribution (taking more than 30 seconds)\n",
      "WARNING:root:SKIPPED loguniform distribution (taking more than 30 seconds)\n",
      "WARNING:root:SKIPPED lomax distribution (taking more than 30 seconds)\n",
      "WARNING:root:SKIPPED mielke distribution (taking more than 30 seconds)\n",
      "WARNING:root:SKIPPED nakagami distribution (taking more than 30 seconds)\n",
      "WARNING:root:SKIPPED ncf distribution (taking more than 30 seconds)\n",
      "WARNING:root:SKIPPED nct distribution (taking more than 30 seconds)\n",
      "WARNING:root:SKIPPED ncx2 distribution (taking more than 30 seconds)\n",
      "WARNING:root:SKIPPED norminvgauss distribution (taking more than 30 seconds)\n",
      "WARNING:root:SKIPPED pareto distribution (taking more than 30 seconds)\n",
      "WARNING:root:SKIPPED pearson3 distribution (taking more than 30 seconds)\n",
      "WARNING:root:SKIPPED rv_continuous distribution (taking more than 30 seconds)\n",
      "WARNING:root:SKIPPED rv_histogram distribution (taking more than 30 seconds)\n",
      "WARNING:root:SKIPPED powerlaw distribution (taking more than 30 seconds)\n",
      "WARNING:root:SKIPPED powerlognorm distribution (taking more than 30 seconds)\n",
      "WARNING:root:SKIPPED powernorm distribution (taking more than 30 seconds)\n",
      "WARNING:root:SKIPPED rdist distribution (taking more than 30 seconds)\n",
      "WARNING:root:SKIPPED recipinvgauss distribution (taking more than 30 seconds)\n",
      "WARNING:root:SKIPPED reciprocal distribution (taking more than 30 seconds)\n",
      "/opt/homebrew/Caskroom/miniforge/base/envs/simtest/lib/python3.10/site-packages/scipy/integrate/_quadpack_py.py:879: IntegrationWarning: The maximum number of subdivisions (50) has been achieved.\n",
      "  If increasing the limit yields no improvement it is advised to analyze \n",
      "  the integrand in order to determine the difficulties.  If the position of a \n",
      "  local difficulty can be determined (singularity, discontinuity) one will \n",
      "  probably gain from splitting up the interval and calling the integrator \n",
      "  on the subranges.  Perhaps a special-purpose integrator should be used.\n",
      "  quad_r = quad(f, low, high, args=args, full_output=self.full_output,\n",
      "WARNING:root:SKIPPED rice distribution (taking more than 30 seconds)\n",
      "WARNING:root:SKIPPED semicircular distribution (taking more than 30 seconds)\n",
      "/opt/homebrew/Caskroom/miniforge/base/envs/simtest/lib/python3.10/site-packages/scipy/integrate/_quadpack_py.py:879: IntegrationWarning: The integral is probably divergent, or slowly convergent.\n",
      "  quad_r = quad(f, low, high, args=args, full_output=self.full_output,\n",
      "WARNING:root:SKIPPED skewcauchy distribution (taking more than 30 seconds)\n",
      "WARNING:root:SKIPPED skewnorm distribution (taking more than 30 seconds)\n",
      "WARNING:root:SKIPPED studentized_range distribution (taking more than 30 seconds)\n",
      "WARNING:root:SKIPPED t distribution (taking more than 30 seconds)\n",
      "WARNING:root:SKIPPED trapezoid distribution (taking more than 30 seconds)\n",
      "WARNING:root:SKIPPED trapz distribution (taking more than 30 seconds)\n",
      "WARNING:root:SKIPPED triang distribution (taking more than 30 seconds)\n",
      "WARNING:root:SKIPPED truncexpon distribution (taking more than 30 seconds)\n",
      "WARNING:root:SKIPPED truncnorm distribution (taking more than 30 seconds)\n",
      "WARNING:root:SKIPPED tukeylambda distribution (taking more than 30 seconds)\n",
      "WARNING:root:SKIPPED vonmises distribution (taking more than 30 seconds)\n",
      "WARNING:root:SKIPPED vonmises_line distribution (taking more than 30 seconds)\n",
      "WARNING:root:SKIPPED weibull_max distribution (taking more than 30 seconds)\n",
      "WARNING:root:SKIPPED weibull_min distribution (taking more than 30 seconds)\n",
      "WARNING:root:SKIPPED wrapcauchy distribution (taking more than 30 seconds)\n"
     ]
    },
    {
     "data": {
      "text/plain": "           sumsquare_error          aic           bic  kl_div\nexponnorm         0.000027  4003.318894 -3.677544e+06     inf\nexpon             0.000027  3973.836845 -3.676606e+06     inf\nburr              0.000048  2397.519540 -3.583084e+06     inf\ninvgamma          0.000053  2049.396963 -3.565654e+06     inf\nwald              0.000077  2804.691152 -3.506326e+06     inf",
      "text/html": "<div>\n<style scoped>\n    .dataframe tbody tr th:only-of-type {\n        vertical-align: middle;\n    }\n\n    .dataframe tbody tr th {\n        vertical-align: top;\n    }\n\n    .dataframe thead th {\n        text-align: right;\n    }\n</style>\n<table border=\"1\" class=\"dataframe\">\n  <thead>\n    <tr style=\"text-align: right;\">\n      <th></th>\n      <th>sumsquare_error</th>\n      <th>aic</th>\n      <th>bic</th>\n      <th>kl_div</th>\n    </tr>\n  </thead>\n  <tbody>\n    <tr>\n      <th>exponnorm</th>\n      <td>0.000027</td>\n      <td>4003.318894</td>\n      <td>-3.677544e+06</td>\n      <td>inf</td>\n    </tr>\n    <tr>\n      <th>expon</th>\n      <td>0.000027</td>\n      <td>3973.836845</td>\n      <td>-3.676606e+06</td>\n      <td>inf</td>\n    </tr>\n    <tr>\n      <th>burr</th>\n      <td>0.000048</td>\n      <td>2397.519540</td>\n      <td>-3.583084e+06</td>\n      <td>inf</td>\n    </tr>\n    <tr>\n      <th>invgamma</th>\n      <td>0.000053</td>\n      <td>2049.396963</td>\n      <td>-3.565654e+06</td>\n      <td>inf</td>\n    </tr>\n    <tr>\n      <th>wald</th>\n      <td>0.000077</td>\n      <td>2804.691152</td>\n      <td>-3.506326e+06</td>\n      <td>inf</td>\n    </tr>\n  </tbody>\n</table>\n</div>"
     },
     "execution_count": 7,
     "metadata": {},
     "output_type": "execute_result"
    },
    {
     "data": {
      "text/plain": "<Figure size 432x288 with 1 Axes>",
      "image/png": "[encoded data removed]"
     },
     "metadata": {
      "needs_background": "light"
     },
     "output_type": "display_data"
    }
   ],
   "source": [
    "f = Fitter(num_items)\n",
    "\n",
    "f.fit()\n",
    "\n",
    "f.summary()"
   ],
   "metadata": {
    "collapsed": false,
    "pycharm": {
     "name": "#%%\n"
    }
   }
  },
  {
   "cell_type": "code",
   "execution_count": 8,
   "outputs": [
    {
     "data": {
      "text/plain": "{'exponnorm': {'K': 2370.571416859694,\n  'loc': 0.9820283135910775,\n  'scale': 0.006077563348787769}}"
     },
     "execution_count": 8,
     "metadata": {},
     "output_type": "execute_result"
    }
   ],
   "source": [
    "f.get_best(method='sumsquare_error')"
   ],
   "metadata": {
    "collapsed": false,
    "pycharm": {
     "name": "#%%\n"
    }
   }
  },
  {
   "cell_type": "code",
   "execution_count": 13,
   "outputs": [
    {
     "name": "stderr",
     "output_type": "stream",
     "text": [
      "WARNING:root:SKIPPED exponnorm distribution (taking more than 30 seconds)\n",
      "WARNING:root:SKIPPED invgamma distribution (taking more than 30 seconds)\n",
      "WARNING:root:SKIPPED burr distribution (taking more than 30 seconds)\n",
      "WARNING:fitter.fitter:exponnorm was not fitted. no parameters available\n",
      "WARNING:fitter.fitter:invgamma was not fitted. no parameters available\n",
      "WARNING:fitter.fitter:burr was not fitted. no parameters available\n"
     ]
    },
    {
     "data": {
      "text/plain": "           sumsquare_error          aic           bic  kl_div\nexpon             0.000027  3973.836845 -3.676606e+06     inf\nwald              0.000077  2804.691152 -3.506326e+06     inf\nexponnorm              inf          inf           inf     inf\ninvgamma               inf          inf           inf     inf\nburr                   inf          inf           inf     inf",
      "text/html": "<div>\n<style scoped>\n    .dataframe tbody tr th:only-of-type {\n        vertical-align: middle;\n    }\n\n    .dataframe tbody tr th {\n        vertical-align: top;\n    }\n\n    .dataframe thead th {\n        text-align: right;\n    }\n</style>\n<table border=\"1\" class=\"dataframe\">\n  <thead>\n    <tr style=\"text-align: right;\">\n      <th></th>\n      <th>sumsquare_error</th>\n      <th>aic</th>\n      <th>bic</th>\n      <th>kl_div</th>\n    </tr>\n  </thead>\n  <tbody>\n    <tr>\n      <th>expon</th>\n      <td>0.000027</td>\n      <td>3973.836845</td>\n      <td>-3.676606e+06</td>\n      <td>inf</td>\n    </tr>\n    <tr>\n      <th>wald</th>\n      <td>0.000077</td>\n      <td>2804.691152</td>\n      <td>-3.506326e+06</td>\n      <td>inf</td>\n    </tr>\n    <tr>\n      <th>exponnorm</th>\n      <td>inf</td>\n      <td>inf</td>\n      <td>inf</td>\n      <td>inf</td>\n    </tr>\n    <tr>\n      <th>invgamma</th>\n      <td>inf</td>\n      <td>inf</td>\n      <td>inf</td>\n      <td>inf</td>\n    </tr>\n    <tr>\n      <th>burr</th>\n      <td>inf</td>\n      <td>inf</td>\n      <td>inf</td>\n      <td>inf</td>\n    </tr>\n  </tbody>\n</table>\n</div>"
     },
     "execution_count": 13,
     "metadata": {},
     "output_type": "execute_result"
    },
    {
     "data": {
      "text/plain": "<Figure size 432x288 with 1 Axes>",
      "image/png": "[encoded data removed]"
     },
     "metadata": {
      "needs_background": "light"
     },
     "output_type": "display_data"
    }
   ],
   "source": [
    "g = Fitter(num_items,\n",
    "           distributions=[\n",
    "               'exponnorm',\n",
    "               'expon',\n",
    "               'burr',\n",
    "               'invgamma',\n",
    "               'wald'\n",
    "           ])\n",
    "g.fit()\n",
    "g.summary()"
   ],
   "metadata": {
    "collapsed": false,
    "pycharm": {
     "name": "#%%\n"
    }
   }
  },
  {
   "cell_type": "code",
   "execution_count": 14,
   "outputs": [
    {
     "data": {
      "text/plain": "{'expon': {'loc': 1.0, 'scale': 14.528563291255535}}"
     },
     "execution_count": 14,
     "metadata": {},
     "output_type": "execute_result"
    }
   ],
   "source": [
    "g.get_best(method='sumsquare_error')"
   ],
   "metadata": {
    "collapsed": false,
    "pycharm": {
     "name": "#%%\n"
    }
   }
  },
  {
   "cell_type": "code",
   "execution_count": 18,
   "outputs": [
    {
     "name": "stdout",
     "output_type": "stream",
     "text": [
      "0.06882993038973653\n"
     ]
    }
   ],
   "source": [
    "rate = 1/14.528563291255535\n",
    "print(rate)"
   ],
   "metadata": {
    "collapsed": false,
    "pycharm": {
     "name": "#%%\n"
    }
   }
  },
  {
   "cell_type": "code",
   "execution_count": null,
   "outputs": [],
   "source": [],
   "metadata": {
    "collapsed": false,
    "pycharm": {
     "name": "#%%\n"
    }
   }
  }
 ],
 "metadata": {
  "kernelspec": {
   "display_name": "Python 3",
   "language": "python",
   "name": "python3"
  },
  "language_info": {
   "codemirror_mode": {
    "name": "ipython",
    "version": 2
   },
   "file_extension": ".py",
   "mimetype": "text/x-python",
   "name": "python",
   "nbconvert_exporter": "python",
   "pygments_lexer": "ipython2",
   "version": "2.7.6"
  }
 },
 "nbformat": 4,
 "nbformat_minor": 0
}