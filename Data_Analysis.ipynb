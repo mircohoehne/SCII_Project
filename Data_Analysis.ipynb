{
 "cells": [
  {
   "cell_type": "code",
   "execution_count": 1,
   "outputs": [],
   "source": [
    "import pandas as pd\n",
    "import seaborn as sns\n",
    "%matplotlib inline\n",
    "import statsmodels.api as sm\n",
    "from fitter import Fitter"
   ],
   "metadata": {
    "collapsed": false,
    "pycharm": {
     "name": "#%%\n"
    }
   }
  },
  {
   "cell_type": "code",
   "execution_count": 2,
   "outputs": [],
   "source": [
    "# load the transaction data\n",
    "# have to exclude the last dataset, since there was a formatting error in transaction ids\n",
    "df1 = pd.read_csv(\"POS_Data/POS_transactions_20171207-20171219.csv\")\n",
    "df2 = pd.read_csv(\"POS_Data/POS_transactions_20190213-20190226.csv\")\n",
    "df3 = pd.read_csv(\"POS_Data/POS_transactions_20190328-20190410.csv\")\n",
    "\n",
    "data = pd.concat((df1,df2,df3))"
   ],
   "metadata": {
    "collapsed": false,
    "pycharm": {
     "name": "#%%\n"
    }
   }
  },
  {
   "cell_type": "code",
   "execution_count": 3,
   "outputs": [
    {
     "data": {
      "text/plain": "<seaborn.axisgrid.FacetGrid at 0x12ca19570>"
     },
     "execution_count": 3,
     "metadata": {},
     "output_type": "execute_result"
    },
    {
     "data": {
      "text/plain": "<Figure size 720x360 with 1 Axes>",
      "image/png": "[encoded data removed]"
     },
     "metadata": {
      "needs_background": "light"
     },
     "output_type": "display_data"
    }
   ],
   "source": [
    "sns.displot(data['ArtNum'], kind='hist',aspect=2)"
   ],
   "metadata": {
    "collapsed": false,
    "pycharm": {
     "name": "#%%\n"
    }
   }
  },
  {
   "cell_type": "code",
   "execution_count": 4,
   "outputs": [],
   "source": [
    "# create numpy array for fitter\n",
    "num_items = data['ArtNum'].values"
   ],
   "metadata": {
    "collapsed": false,
    "pycharm": {
     "name": "#%%\n"
    }
   }
  },
  {
   "cell_type": "code",
   "execution_count": 5,
   "outputs": [
    {
     "name": "stderr",
     "output_type": "stream",
     "text": [
      "WARNING:root:SKIPPED burr distribution (taking more than 30 seconds)\n",
      "WARNING:root:SKIPPED gausshyper distribution (taking more than 30 seconds)\n",
      "WARNING:root:SKIPPED genexpon distribution (taking more than 30 seconds)\n",
      "WARNING:root:SKIPPED genextreme distribution (taking more than 30 seconds)\n",
      "WARNING:root:SKIPPED gengamma distribution (taking more than 30 seconds)\n",
      "WARNING:root:SKIPPED genhalflogistic distribution (taking more than 30 seconds)\n",
      "WARNING:root:SKIPPED genhyperbolic distribution (taking more than 30 seconds)\n",
      "WARNING:root:SKIPPED geninvgauss distribution (taking more than 30 seconds)\n",
      "WARNING:root:SKIPPED genlogistic distribution (taking more than 30 seconds)\n",
      "WARNING:root:SKIPPED genpareto distribution (taking more than 30 seconds)\n",
      "WARNING:root:SKIPPED gompertz distribution (taking more than 30 seconds)\n",
      "WARNING:root:SKIPPED halfgennorm distribution (taking more than 30 seconds)\n",
      "WARNING:root:SKIPPED kstwo distribution (taking more than 30 seconds)\n",
      "WARNING:root:SKIPPED invweibull distribution (taking more than 30 seconds)\n",
      "WARNING:root:SKIPPED johnsonsb distribution (taking more than 30 seconds)\n",
      "WARNING:root:SKIPPED johnsonsu distribution (taking more than 30 seconds)\n",
      "WARNING:root:SKIPPED kappa3 distribution (taking more than 30 seconds)\n",
      "WARNING:root:SKIPPED kappa4 distribution (taking more than 30 seconds)\n",
      "WARNING:root:SKIPPED ksone distribution (taking more than 30 seconds)\n",
      "WARNING:root:SKIPPED laplace_asymmetric distribution (taking more than 30 seconds)\n",
      "WARNING:root:SKIPPED levy_l distribution (taking more than 30 seconds)\n",
      "WARNING:root:SKIPPED levy_stable distribution (taking more than 30 seconds)\n",
      "WARNING:root:SKIPPED loggamma distribution (taking more than 30 seconds)\n",
      "WARNING:root:SKIPPED loglaplace distribution (taking more than 30 seconds)\n",
      "WARNING:root:SKIPPED lognorm distribution (taking more than 30 seconds)\n",
      "WARNING:root:SKIPPED loguniform distribution (taking more than 30 seconds)\n",
      "WARNING:root:SKIPPED lomax distribution (taking more than 30 seconds)\n",
      "WARNING:root:SKIPPED mielke distribution (taking more than 30 seconds)\n",
      "WARNING:root:SKIPPED nakagami distribution (taking more than 30 seconds)\n",
      "WARNING:root:SKIPPED ncf distribution (taking more than 30 seconds)\n",
      "WARNING:root:SKIPPED nct distribution (taking more than 30 seconds)\n",
      "WARNING:root:SKIPPED ncx2 distribution (taking more than 30 seconds)\n",
      "WARNING:root:SKIPPED norminvgauss distribution (taking more than 30 seconds)\n",
      "WARNING:root:SKIPPED pareto distribution (taking more than 30 seconds)\n",
      "WARNING:root:SKIPPED pearson3 distribution (taking more than 30 seconds)\n",
      "WARNING:root:SKIPPED rv_continuous distribution (taking more than 30 seconds)\n",
      "WARNING:root:SKIPPED rv_histogram distribution (taking more than 30 seconds)\n",
      "WARNING:root:SKIPPED powerlaw distribution (taking more than 30 seconds)\n",
      "WARNING:root:SKIPPED powerlognorm distribution (taking more than 30 seconds)\n",
      "WARNING:root:SKIPPED powernorm distribution (taking more than 30 seconds)\n",
      "WARNING:root:SKIPPED rdist distribution (taking more than 30 seconds)\n",
      "WARNING:root:SKIPPED recipinvgauss distribution (taking more than 30 seconds)\n",
      "WARNING:root:SKIPPED reciprocal distribution (taking more than 30 seconds)\n",
      "/opt/homebrew/Caskroom/miniforge/base/envs/simtest/lib/python3.10/site-packages/scipy/integrate/_quadpack_py.py:879: IntegrationWarning: The maximum number of subdivisions (50) has been achieved.\n",
      "  If increasing the limit yields no improvement it is advised to analyze \n",
      "  the integrand in order to determine the difficulties.  If the position of a \n",
      "  local difficulty can be determined (singularity, discontinuity) one will \n",
      "  probably gain from splitting up the interval and calling the integrator \n",
      "  on the subranges.  Perhaps a special-purpose integrator should be used.\n",
      "  quad_r = quad(f, low, high, args=args, full_output=self.full_output,\n",
      "WARNING:root:SKIPPED rice distribution (taking more than 30 seconds)\n",
      "WARNING:root:SKIPPED semicircular distribution (taking more than 30 seconds)\n",
      "/opt/homebrew/Caskroom/miniforge/base/envs/simtest/lib/python3.10/site-packages/scipy/integrate/_quadpack_py.py:879: IntegrationWarning: The integral is probably divergent, or slowly convergent.\n",
      "  quad_r = quad(f, low, high, args=args, full_output=self.full_output,\n",
      "WARNING:root:SKIPPED skewcauchy distribution (taking more than 30 seconds)\n",
      "WARNING:root:SKIPPED skewnorm distribution (taking more than 30 seconds)\n",
      "WARNING:root:SKIPPED studentized_range distribution (taking more than 30 seconds)\n",
      "WARNING:root:SKIPPED t distribution (taking more than 30 seconds)\n",
      "WARNING:root:SKIPPED trapezoid distribution (taking more than 30 seconds)\n",
      "WARNING:root:SKIPPED trapz distribution (taking more than 30 seconds)\n",
      "WARNING:root:SKIPPED triang distribution (taking more than 30 seconds)\n",
      "WARNING:root:SKIPPED truncexpon distribution (taking more than 30 seconds)\n",
      "WARNING:root:SKIPPED truncnorm distribution (taking more than 30 seconds)\n",
      "WARNING:root:SKIPPED tukeylambda distribution (taking more than 30 seconds)\n",
      "WARNING:root:SKIPPED vonmises distribution (taking more than 30 seconds)\n",
      "WARNING:root:SKIPPED vonmises_line distribution (taking more than 30 seconds)\n",
      "WARNING:root:SKIPPED weibull_max distribution (taking more than 30 seconds)\n",
      "WARNING:root:SKIPPED weibull_min distribution (taking more than 30 seconds)\n",
      "WARNING:root:SKIPPED wrapcauchy distribution (taking more than 30 seconds)\n"
     ]
    },
    {
     "data": {
      "text/plain": "            sumsquare_error          aic           bic  kl_div\nexponnorm          0.000027  4003.318894 -3.677544e+06     inf\nexpon              0.000027  3973.836845 -3.676606e+06     inf\ninvgamma           0.000053  2049.396963 -3.565654e+06     inf\nwald               0.000077  2804.691152 -3.506326e+06     inf\nfoldcauchy         0.000077  1782.269494 -3.506054e+06     inf",
      "text/html": "<div>\n<style scoped>\n    .dataframe tbody tr th:only-of-type {\n        vertical-align: middle;\n    }\n\n    .dataframe tbody tr th {\n        vertical-align: top;\n    }\n\n    .dataframe thead th {\n        text-align: right;\n    }\n</style>\n<table border=\"1\" class=\"dataframe\">\n  <thead>\n    <tr style=\"text-align: right;\">\n      <th></th>\n      <th>sumsquare_error</th>\n      <th>aic</th>\n      <th>bic</th>\n      <th>kl_div</th>\n    </tr>\n  </thead>\n  <tbody>\n    <tr>\n      <th>exponnorm</th>\n      <td>0.000027</td>\n      <td>4003.318894</td>\n      <td>-3.677544e+06</td>\n      <td>inf</td>\n    </tr>\n    <tr>\n      <th>expon</th>\n      <td>0.000027</td>\n      <td>3973.836845</td>\n      <td>-3.676606e+06</td>\n      <td>inf</td>\n    </tr>\n    <tr>\n      <th>invgamma</th>\n      <td>0.000053</td>\n      <td>2049.396963</td>\n      <td>-3.565654e+06</td>\n      <td>inf</td>\n    </tr>\n    <tr>\n      <th>wald</th>\n      <td>0.000077</td>\n      <td>2804.691152</td>\n      <td>-3.506326e+06</td>\n      <td>inf</td>\n    </tr>\n    <tr>\n      <th>foldcauchy</th>\n      <td>0.000077</td>\n      <td>1782.269494</td>\n      <td>-3.506054e+06</td>\n      <td>inf</td>\n    </tr>\n  </tbody>\n</table>\n</div>"
     },
     "execution_count": 5,
     "metadata": {},
     "output_type": "execute_result"
    },
    {
     "data": {
      "text/plain": "<Figure size 432x288 with 1 Axes>",
      "image/png": "[encoded data removed]"
     },
     "metadata": {
      "needs_background": "light"
     },
     "output_type": "display_data"
    }
   ],
   "source": [
    "# fit cc_num_items\n",
    "f = Fitter(num_items)\n",
    "\n",
    "f.fit()\n",
    "\n",
    "f.summary()"
   ],
   "metadata": {
    "collapsed": false,
    "pycharm": {
     "name": "#%%\n"
    }
   }
  },
  {
   "cell_type": "code",
   "execution_count": 9,
   "outputs": [
    {
     "data": {
      "text/plain": "{'expon': {'loc': 1.0, 'scale': 14.528563291255535}}"
     },
     "execution_count": 9,
     "metadata": {},
     "output_type": "execute_result"
    }
   ],
   "source": [
    "f = Fitter(num_items, distributions='expon')\n",
    "f.fit()\n",
    "f.get_best(method='sumsquare_error')"
   ],
   "metadata": {
    "collapsed": false,
    "pycharm": {
     "name": "#%%\n"
    }
   }
  },
  {
   "cell_type": "code",
   "execution_count": 11,
   "outputs": [],
   "source": [
    "# Split data into sc and cc data\n",
    "cc_data = data[data['WorkstationGroupID'] == 1]\n",
    "sc_data = data[data['WorkstationGroupID'] == 8]\n",
    "# calculate transaction time per item and turn into numpy array\n",
    "cc_time_per_item = cc_data['TranTime'] / cc_data['ArtNum']\n",
    "cc_time_per_item = cc_time_per_item.values\n",
    "sc_time_per_item = sc_data['TranTime'] / sc_data['ArtNum']\n",
    "sc_time_per_item = sc_time_per_item.values\n"
   ],
   "metadata": {
    "collapsed": false,
    "pycharm": {
     "name": "#%%\n"
    }
   }
  },
  {
   "cell_type": "code",
   "execution_count": 12,
   "outputs": [
    {
     "data": {
      "text/plain": "<seaborn.axisgrid.FacetGrid at 0x16796a530>"
     },
     "execution_count": 12,
     "metadata": {},
     "output_type": "execute_result"
    },
    {
     "data": {
      "text/plain": "<Figure size 720x360 with 1 Axes>",
      "image/png": "[encoded data removed]"
     },
     "metadata": {
      "needs_background": "light"
     },
     "output_type": "display_data"
    }
   ],
   "source": [
    "sns.displot(cc_time_per_item, kind='hist', aspect=2)"
   ],
   "metadata": {
    "collapsed": false,
    "pycharm": {
     "name": "#%%\n"
    }
   }
  },
  {
   "cell_type": "code",
   "execution_count": 13,
   "outputs": [
    {
     "name": "stderr",
     "output_type": "stream",
     "text": [
      "WARNING:root:SKIPPED alpha distribution (taking more than 30 seconds)\n",
      "WARNING:root:SKIPPED anglit distribution (taking more than 30 seconds)\n",
      "WARNING:root:SKIPPED arcsine distribution (taking more than 30 seconds)\n",
      "WARNING:root:SKIPPED beta distribution (taking more than 30 seconds)\n",
      "WARNING:root:SKIPPED argus distribution (taking more than 30 seconds)\n",
      "WARNING:root:SKIPPED betaprime distribution (taking more than 30 seconds)\n",
      "WARNING:root:SKIPPED bradford distribution (taking more than 30 seconds)\n",
      "WARNING:root:SKIPPED burr distribution (taking more than 30 seconds)\n",
      "WARNING:root:SKIPPED burr12 distribution (taking more than 30 seconds)\n",
      "WARNING:root:SKIPPED chi distribution (taking more than 30 seconds)\n",
      "WARNING:root:SKIPPED chi2 distribution (taking more than 30 seconds)\n",
      "WARNING:root:SKIPPED cosine distribution (taking more than 30 seconds)\n",
      "WARNING:root:SKIPPED crystalball distribution (taking more than 30 seconds)\n",
      "WARNING:root:SKIPPED dgamma distribution (taking more than 30 seconds)\n",
      "WARNING:root:SKIPPED dweibull distribution (taking more than 30 seconds)\n",
      "WARNING:root:SKIPPED erlang distribution (taking more than 30 seconds)\n",
      "WARNING:root:SKIPPED exponnorm distribution (taking more than 30 seconds)\n",
      "WARNING:root:SKIPPED exponpow distribution (taking more than 30 seconds)\n",
      "WARNING:root:SKIPPED exponweib distribution (taking more than 30 seconds)\n",
      "WARNING:root:SKIPPED fatiguelife distribution (taking more than 30 seconds)\n",
      "WARNING:root:SKIPPED f distribution (taking more than 30 seconds)\n",
      "WARNING:root:SKIPPED fisk distribution (taking more than 30 seconds)\n",
      "WARNING:root:SKIPPED foldcauchy distribution (taking more than 30 seconds)\n",
      "WARNING:root:SKIPPED foldnorm distribution (taking more than 30 seconds)\n",
      "WARNING:root:SKIPPED gamma distribution (taking more than 30 seconds)\n",
      "WARNING:root:SKIPPED gausshyper distribution (taking more than 30 seconds)\n",
      "WARNING:root:SKIPPED genexpon distribution (taking more than 30 seconds)\n",
      "WARNING:root:SKIPPED genextreme distribution (taking more than 30 seconds)\n",
      "WARNING:root:SKIPPED gengamma distribution (taking more than 30 seconds)\n",
      "WARNING:root:SKIPPED genhyperbolic distribution (taking more than 30 seconds)\n",
      "WARNING:root:SKIPPED genhalflogistic distribution (taking more than 30 seconds)\n",
      "WARNING:root:SKIPPED geninvgauss distribution (taking more than 30 seconds)\n",
      "WARNING:root:SKIPPED genlogistic distribution (taking more than 30 seconds)\n",
      "WARNING:root:SKIPPED gennorm distribution (taking more than 30 seconds)\n",
      "WARNING:root:SKIPPED genpareto distribution (taking more than 30 seconds)\n",
      "WARNING:root:SKIPPED gilbrat distribution (taking more than 30 seconds)\n",
      "WARNING:root:SKIPPED gompertz distribution (taking more than 30 seconds)\n",
      "WARNING:root:SKIPPED halfcauchy distribution (taking more than 30 seconds)\n",
      "WARNING:root:SKIPPED halfgennorm distribution (taking more than 30 seconds)\n",
      "WARNING:root:SKIPPED halflogistic distribution (taking more than 30 seconds)\n",
      "WARNING:root:SKIPPED halfnorm distribution (taking more than 30 seconds)\n",
      "WARNING:root:SKIPPED invgamma distribution (taking more than 30 seconds)\n",
      "WARNING:root:SKIPPED invgauss distribution (taking more than 30 seconds)\n",
      "WARNING:root:SKIPPED invweibull distribution (taking more than 30 seconds)\n",
      "WARNING:root:SKIPPED kstwo distribution (taking more than 30 seconds)\n",
      "WARNING:root:SKIPPED johnsonsb distribution (taking more than 30 seconds)\n",
      "WARNING:root:SKIPPED johnsonsu distribution (taking more than 30 seconds)\n",
      "WARNING:root:SKIPPED kappa3 distribution (taking more than 30 seconds)\n",
      "WARNING:root:SKIPPED kappa4 distribution (taking more than 30 seconds)\n",
      "WARNING:root:SKIPPED ksone distribution (taking more than 30 seconds)\n",
      "WARNING:root:SKIPPED kstwobign distribution (taking more than 30 seconds)\n",
      "WARNING:root:SKIPPED laplace_asymmetric distribution (taking more than 30 seconds)\n",
      "WARNING:root:SKIPPED levy distribution (taking more than 30 seconds)\n",
      "WARNING:root:SKIPPED levy_l distribution (taking more than 30 seconds)\n",
      "WARNING:root:SKIPPED levy_stable distribution (taking more than 30 seconds)\n",
      "WARNING:root:SKIPPED loggamma distribution (taking more than 30 seconds)\n",
      "WARNING:root:SKIPPED loglaplace distribution (taking more than 30 seconds)\n",
      "WARNING:root:SKIPPED lognorm distribution (taking more than 30 seconds)\n",
      "WARNING:root:SKIPPED loguniform distribution (taking more than 30 seconds)\n",
      "WARNING:root:SKIPPED lomax distribution (taking more than 30 seconds)\n",
      "WARNING:root:SKIPPED maxwell distribution (taking more than 30 seconds)\n",
      "WARNING:root:SKIPPED mielke distribution (taking more than 30 seconds)\n",
      "WARNING:root:SKIPPED nakagami distribution (taking more than 30 seconds)\n",
      "WARNING:root:SKIPPED ncf distribution (taking more than 30 seconds)\n",
      "WARNING:root:SKIPPED nct distribution (taking more than 30 seconds)\n",
      "WARNING:root:SKIPPED ncx2 distribution (taking more than 30 seconds)\n",
      "WARNING:root:SKIPPED norminvgauss distribution (taking more than 30 seconds)\n",
      "WARNING:root:SKIPPED pareto distribution (taking more than 30 seconds)\n",
      "WARNING:root:SKIPPED pearson3 distribution (taking more than 30 seconds)\n",
      "WARNING:root:SKIPPED rv_continuous distribution (taking more than 30 seconds)\n",
      "WARNING:root:SKIPPED rv_histogram distribution (taking more than 30 seconds)\n",
      "WARNING:root:SKIPPED powerlaw distribution (taking more than 30 seconds)\n",
      "WARNING:root:SKIPPED powerlognorm distribution (taking more than 30 seconds)\n",
      "WARNING:root:SKIPPED powernorm distribution (taking more than 30 seconds)\n",
      "WARNING:root:SKIPPED rdist distribution (taking more than 30 seconds)\n",
      "WARNING:root:SKIPPED recipinvgauss distribution (taking more than 30 seconds)\n",
      "WARNING:root:SKIPPED reciprocal distribution (taking more than 30 seconds)\n",
      "WARNING:root:SKIPPED rice distribution (taking more than 30 seconds)\n",
      "WARNING:root:SKIPPED semicircular distribution (taking more than 30 seconds)\n",
      "WARNING:root:SKIPPED skewcauchy distribution (taking more than 30 seconds)\n",
      "WARNING:root:SKIPPED skewnorm distribution (taking more than 30 seconds)\n",
      "/opt/homebrew/Caskroom/miniforge/base/envs/simtest/lib/python3.10/site-packages/scipy/integrate/_quadpack_py.py:879: IntegrationWarning: The maximum number of subdivisions (50) has been achieved.\n",
      "  If increasing the limit yields no improvement it is advised to analyze \n",
      "  the integrand in order to determine the difficulties.  If the position of a \n",
      "  local difficulty can be determined (singularity, discontinuity) one will \n",
      "  probably gain from splitting up the interval and calling the integrator \n",
      "  on the subranges.  Perhaps a special-purpose integrator should be used.\n",
      "  quad_r = quad(f, low, high, args=args, full_output=self.full_output,\n",
      "WARNING:root:SKIPPED studentized_range distribution (taking more than 30 seconds)\n",
      "WARNING:root:SKIPPED t distribution (taking more than 30 seconds)\n",
      "WARNING:root:SKIPPED trapezoid distribution (taking more than 30 seconds)\n",
      "WARNING:root:SKIPPED trapz distribution (taking more than 30 seconds)\n",
      "WARNING:root:SKIPPED triang distribution (taking more than 30 seconds)\n",
      "WARNING:root:SKIPPED truncexpon distribution (taking more than 30 seconds)\n",
      "WARNING:root:SKIPPED truncnorm distribution (taking more than 30 seconds)\n",
      "/opt/homebrew/Caskroom/miniforge/base/envs/simtest/lib/python3.10/site-packages/scipy/integrate/_quadpack_py.py:879: IntegrationWarning: The integral is probably divergent, or slowly convergent.\n",
      "  quad_r = quad(f, low, high, args=args, full_output=self.full_output,\n",
      "WARNING:root:SKIPPED tukeylambda distribution (taking more than 30 seconds)\n",
      "WARNING:root:SKIPPED vonmises distribution (taking more than 30 seconds)\n",
      "WARNING:root:SKIPPED vonmises_line distribution (taking more than 30 seconds)\n",
      "WARNING:root:SKIPPED wald distribution (taking more than 30 seconds)\n",
      "WARNING:root:SKIPPED weibull_max distribution (taking more than 30 seconds)\n",
      "WARNING:root:SKIPPED weibull_min distribution (taking more than 30 seconds)\n",
      "WARNING:root:SKIPPED wrapcauchy distribution (taking more than 30 seconds)\n"
     ]
    },
    {
     "data": {
      "text/plain": "           sumsquare_error           aic           bic  kl_div\nlaplace           0.000387  11545.388634 -2.412158e+06     inf\nmoyal             0.001194  10522.374783 -2.273358e+06     inf\ngumbel_r          0.001968  12598.202966 -2.211856e+06     inf\nhypsecant         0.002715  13422.668141 -2.172196e+06     inf\nlogistic          0.005397  15287.737247 -2.087539e+06     inf",
      "text/html": "<div>\n<style scoped>\n    .dataframe tbody tr th:only-of-type {\n        vertical-align: middle;\n    }\n\n    .dataframe tbody tr th {\n        vertical-align: top;\n    }\n\n    .dataframe thead th {\n        text-align: right;\n    }\n</style>\n<table border=\"1\" class=\"dataframe\">\n  <thead>\n    <tr style=\"text-align: right;\">\n      <th></th>\n      <th>sumsquare_error</th>\n      <th>aic</th>\n      <th>bic</th>\n      <th>kl_div</th>\n    </tr>\n  </thead>\n  <tbody>\n    <tr>\n      <th>laplace</th>\n      <td>0.000387</td>\n      <td>11545.388634</td>\n      <td>-2.412158e+06</td>\n      <td>inf</td>\n    </tr>\n    <tr>\n      <th>moyal</th>\n      <td>0.001194</td>\n      <td>10522.374783</td>\n      <td>-2.273358e+06</td>\n      <td>inf</td>\n    </tr>\n    <tr>\n      <th>gumbel_r</th>\n      <td>0.001968</td>\n      <td>12598.202966</td>\n      <td>-2.211856e+06</td>\n      <td>inf</td>\n    </tr>\n    <tr>\n      <th>hypsecant</th>\n      <td>0.002715</td>\n      <td>13422.668141</td>\n      <td>-2.172196e+06</td>\n      <td>inf</td>\n    </tr>\n    <tr>\n      <th>logistic</th>\n      <td>0.005397</td>\n      <td>15287.737247</td>\n      <td>-2.087539e+06</td>\n      <td>inf</td>\n    </tr>\n  </tbody>\n</table>\n</div>"
     },
     "execution_count": 13,
     "metadata": {},
     "output_type": "execute_result"
    },
    {
     "data": {
      "text/plain": "<Figure size 432x288 with 1 Axes>",
      "image/png": "[encoded data removed]"
     },
     "metadata": {
      "needs_background": "light"
     },
     "output_type": "display_data"
    }
   ],
   "source": [
    "# find best distribution to approximate cc_time_per_item\n",
    "g = Fitter(cc_time_per_item)\n",
    "g.fit()\n",
    "g.summary()"
   ],
   "metadata": {
    "collapsed": false,
    "pycharm": {
     "name": "#%%\n"
    }
   }
  },
  {
   "cell_type": "code",
   "execution_count": 14,
   "outputs": [
    {
     "data": {
      "text/plain": "{'laplace': {'loc': 3.7777777777777777, 'scale': 2.1742325579116906}}"
     },
     "execution_count": 14,
     "metadata": {},
     "output_type": "execute_result"
    }
   ],
   "source": [
    "g.get_best(method='sumsquare_error')"
   ],
   "metadata": {
    "collapsed": false,
    "pycharm": {
     "name": "#%%\n"
    }
   }
  },
  {
   "cell_type": "code",
   "execution_count": 15,
   "outputs": [
    {
     "name": "stderr",
     "output_type": "stream",
     "text": [
      "WARNING:root:SKIPPED arcsine distribution (taking more than 30 seconds)\n",
      "WARNING:root:SKIPPED alpha distribution (taking more than 30 seconds)\n",
      "WARNING:root:SKIPPED anglit distribution (taking more than 30 seconds)\n",
      "WARNING:root:SKIPPED argus distribution (taking more than 30 seconds)\n",
      "WARNING:root:SKIPPED betaprime distribution (taking more than 30 seconds)\n",
      "WARNING:root:SKIPPED beta distribution (taking more than 30 seconds)\n",
      "WARNING:root:SKIPPED bradford distribution (taking more than 30 seconds)\n",
      "WARNING:root:SKIPPED burr distribution (taking more than 30 seconds)\n",
      "WARNING:root:SKIPPED burr12 distribution (taking more than 30 seconds)\n",
      "WARNING:root:SKIPPED chi distribution (taking more than 30 seconds)\n",
      "WARNING:root:SKIPPED chi2 distribution (taking more than 30 seconds)\n",
      "WARNING:root:SKIPPED cosine distribution (taking more than 30 seconds)\n",
      "WARNING:root:SKIPPED crystalball distribution (taking more than 30 seconds)\n",
      "WARNING:root:SKIPPED dgamma distribution (taking more than 30 seconds)\n",
      "WARNING:root:SKIPPED dweibull distribution (taking more than 30 seconds)\n",
      "WARNING:root:SKIPPED erlang distribution (taking more than 30 seconds)\n",
      "WARNING:root:SKIPPED exponnorm distribution (taking more than 30 seconds)\n",
      "WARNING:root:SKIPPED exponpow distribution (taking more than 30 seconds)\n",
      "WARNING:root:SKIPPED exponweib distribution (taking more than 30 seconds)\n",
      "WARNING:root:SKIPPED f distribution (taking more than 30 seconds)\n",
      "WARNING:root:SKIPPED fatiguelife distribution (taking more than 30 seconds)\n",
      "WARNING:root:SKIPPED fisk distribution (taking more than 30 seconds)\n",
      "WARNING:root:SKIPPED foldcauchy distribution (taking more than 30 seconds)\n",
      "WARNING:root:SKIPPED foldnorm distribution (taking more than 30 seconds)\n",
      "WARNING:root:SKIPPED gamma distribution (taking more than 30 seconds)\n",
      "WARNING:root:SKIPPED gausshyper distribution (taking more than 30 seconds)\n",
      "WARNING:root:SKIPPED genexpon distribution (taking more than 30 seconds)\n",
      "WARNING:root:SKIPPED genextreme distribution (taking more than 30 seconds)\n",
      "WARNING:root:SKIPPED gengamma distribution (taking more than 30 seconds)\n",
      "WARNING:root:SKIPPED genhalflogistic distribution (taking more than 30 seconds)\n",
      "WARNING:root:SKIPPED genhyperbolic distribution (taking more than 30 seconds)\n",
      "WARNING:root:SKIPPED geninvgauss distribution (taking more than 30 seconds)\n",
      "WARNING:root:SKIPPED genlogistic distribution (taking more than 30 seconds)\n",
      "WARNING:root:SKIPPED gennorm distribution (taking more than 30 seconds)\n",
      "WARNING:root:SKIPPED genpareto distribution (taking more than 30 seconds)\n",
      "WARNING:root:SKIPPED gilbrat distribution (taking more than 30 seconds)\n",
      "WARNING:root:SKIPPED gompertz distribution (taking more than 30 seconds)\n",
      "WARNING:root:SKIPPED halfcauchy distribution (taking more than 30 seconds)\n",
      "WARNING:root:SKIPPED halfgennorm distribution (taking more than 30 seconds)\n",
      "WARNING:root:SKIPPED halflogistic distribution (taking more than 30 seconds)\n",
      "WARNING:root:SKIPPED halfnorm distribution (taking more than 30 seconds)\n",
      "WARNING:root:SKIPPED invgamma distribution (taking more than 30 seconds)\n",
      "WARNING:root:SKIPPED invgauss distribution (taking more than 30 seconds)\n",
      "WARNING:root:SKIPPED invweibull distribution (taking more than 30 seconds)\n",
      "WARNING:root:SKIPPED kstwo distribution (taking more than 30 seconds)\n",
      "WARNING:root:SKIPPED johnsonsb distribution (taking more than 30 seconds)\n",
      "WARNING:root:SKIPPED johnsonsu distribution (taking more than 30 seconds)\n",
      "WARNING:root:SKIPPED kappa3 distribution (taking more than 30 seconds)\n",
      "WARNING:root:SKIPPED kappa4 distribution (taking more than 30 seconds)\n",
      "WARNING:root:SKIPPED ksone distribution (taking more than 30 seconds)\n",
      "WARNING:root:SKIPPED kstwobign distribution (taking more than 30 seconds)\n",
      "WARNING:root:SKIPPED laplace_asymmetric distribution (taking more than 30 seconds)\n",
      "WARNING:root:SKIPPED levy distribution (taking more than 30 seconds)\n",
      "WARNING:root:SKIPPED levy_l distribution (taking more than 30 seconds)\n",
      "WARNING:root:SKIPPED levy_stable distribution (taking more than 30 seconds)\n",
      "WARNING:root:SKIPPED loggamma distribution (taking more than 30 seconds)\n",
      "WARNING:root:SKIPPED loglaplace distribution (taking more than 30 seconds)\n",
      "WARNING:root:SKIPPED lognorm distribution (taking more than 30 seconds)\n",
      "WARNING:root:SKIPPED loguniform distribution (taking more than 30 seconds)\n",
      "WARNING:root:SKIPPED lomax distribution (taking more than 30 seconds)\n",
      "WARNING:root:SKIPPED maxwell distribution (taking more than 30 seconds)\n",
      "WARNING:root:SKIPPED mielke distribution (taking more than 30 seconds)\n",
      "WARNING:root:SKIPPED moyal distribution (taking more than 30 seconds)\n",
      "WARNING:root:SKIPPED nakagami distribution (taking more than 30 seconds)\n",
      "WARNING:root:SKIPPED ncf distribution (taking more than 30 seconds)\n",
      "WARNING:root:SKIPPED nct distribution (taking more than 30 seconds)\n",
      "WARNING:root:SKIPPED ncx2 distribution (taking more than 30 seconds)\n",
      "WARNING:root:SKIPPED norminvgauss distribution (taking more than 30 seconds)\n",
      "WARNING:root:SKIPPED pareto distribution (taking more than 30 seconds)\n",
      "WARNING:root:SKIPPED pearson3 distribution (taking more than 30 seconds)\n",
      "WARNING:root:SKIPPED rv_continuous distribution (taking more than 30 seconds)\n",
      "WARNING:root:SKIPPED rv_histogram distribution (taking more than 30 seconds)\n",
      "WARNING:root:SKIPPED powerlaw distribution (taking more than 30 seconds)\n",
      "WARNING:root:SKIPPED powerlognorm distribution (taking more than 30 seconds)\n",
      "WARNING:root:SKIPPED powernorm distribution (taking more than 30 seconds)\n",
      "WARNING:root:SKIPPED rdist distribution (taking more than 30 seconds)\n",
      "WARNING:root:SKIPPED recipinvgauss distribution (taking more than 30 seconds)\n",
      "WARNING:root:SKIPPED reciprocal distribution (taking more than 30 seconds)\n",
      "WARNING:root:SKIPPED rice distribution (taking more than 30 seconds)\n",
      "WARNING:root:SKIPPED semicircular distribution (taking more than 30 seconds)\n",
      "WARNING:root:SKIPPED skewcauchy distribution (taking more than 30 seconds)\n",
      "WARNING:root:SKIPPED skewnorm distribution (taking more than 30 seconds)\n",
      "WARNING:root:SKIPPED studentized_range distribution (taking more than 30 seconds)\n",
      "WARNING:root:SKIPPED t distribution (taking more than 30 seconds)\n",
      "WARNING:root:SKIPPED trapezoid distribution (taking more than 30 seconds)\n",
      "/opt/homebrew/Caskroom/miniforge/base/envs/simtest/lib/python3.10/site-packages/scipy/integrate/_quadpack_py.py:879: IntegrationWarning: The maximum number of subdivisions (50) has been achieved.\n",
      "  If increasing the limit yields no improvement it is advised to analyze \n",
      "  the integrand in order to determine the difficulties.  If the position of a \n",
      "  local difficulty can be determined (singularity, discontinuity) one will \n",
      "  probably gain from splitting up the interval and calling the integrator \n",
      "  on the subranges.  Perhaps a special-purpose integrator should be used.\n",
      "  quad_r = quad(f, low, high, args=args, full_output=self.full_output,\n",
      "WARNING:root:SKIPPED trapz distribution (taking more than 30 seconds)\n",
      "WARNING:root:SKIPPED triang distribution (taking more than 30 seconds)\n",
      "WARNING:root:SKIPPED truncexpon distribution (taking more than 30 seconds)\n",
      "/opt/homebrew/Caskroom/miniforge/base/envs/simtest/lib/python3.10/site-packages/scipy/stats/_continuous_distns.py:4858: IntegrationWarning: The integral is probably divergent, or slowly convergent.\n",
      "  intg = integrate.quad(f, -xi, np.pi/2, **intg_kwargs)[0]\n",
      "WARNING:root:SKIPPED truncnorm distribution (taking more than 30 seconds)\n",
      "WARNING:root:SKIPPED tukeylambda distribution (taking more than 30 seconds)\n",
      "WARNING:root:SKIPPED vonmises distribution (taking more than 30 seconds)\n",
      "WARNING:root:SKIPPED vonmises_line distribution (taking more than 30 seconds)\n",
      "WARNING:root:SKIPPED wald distribution (taking more than 30 seconds)\n",
      "WARNING:root:SKIPPED weibull_max distribution (taking more than 30 seconds)\n",
      "WARNING:root:SKIPPED weibull_min distribution (taking more than 30 seconds)\n",
      "WARNING:root:SKIPPED wrapcauchy distribution (taking more than 30 seconds)\n",
      "/opt/homebrew/Caskroom/miniforge/base/envs/simtest/lib/python3.10/site-packages/scipy/integrate/_quadpack_py.py:879: IntegrationWarning: The integral is probably divergent, or slowly convergent.\n",
      "  quad_r = quad(f, low, high, args=args, full_output=self.full_output,\n"
     ]
    },
    {
     "data": {
      "text/plain": "           sumsquare_error          aic            bic  kl_div\ngumbel_r          0.001552  5094.162912 -683683.765280     inf\ncauchy            0.001716  1829.060009 -679657.624365     inf\nlaplace           0.002089  4722.163699 -671783.748779     inf\nhypsecant         0.002660  5355.746306 -662105.177398     inf\nlogistic          0.003168  6002.270528 -655107.919935     inf",
      "text/html": "<div>\n<style scoped>\n    .dataframe tbody tr th:only-of-type {\n        vertical-align: middle;\n    }\n\n    .dataframe tbody tr th {\n        vertical-align: top;\n    }\n\n    .dataframe thead th {\n        text-align: right;\n    }\n</style>\n<table border=\"1\" class=\"dataframe\">\n  <thead>\n    <tr style=\"text-align: right;\">\n      <th></th>\n      <th>sumsquare_error</th>\n      <th>aic</th>\n      <th>bic</th>\n      <th>kl_div</th>\n    </tr>\n  </thead>\n  <tbody>\n    <tr>\n      <th>gumbel_r</th>\n      <td>0.001552</td>\n      <td>5094.162912</td>\n      <td>-683683.765280</td>\n      <td>inf</td>\n    </tr>\n    <tr>\n      <th>cauchy</th>\n      <td>0.001716</td>\n      <td>1829.060009</td>\n      <td>-679657.624365</td>\n      <td>inf</td>\n    </tr>\n    <tr>\n      <th>laplace</th>\n      <td>0.002089</td>\n      <td>4722.163699</td>\n      <td>-671783.748779</td>\n      <td>inf</td>\n    </tr>\n    <tr>\n      <th>hypsecant</th>\n      <td>0.002660</td>\n      <td>5355.746306</td>\n      <td>-662105.177398</td>\n      <td>inf</td>\n    </tr>\n    <tr>\n      <th>logistic</th>\n      <td>0.003168</td>\n      <td>6002.270528</td>\n      <td>-655107.919935</td>\n      <td>inf</td>\n    </tr>\n  </tbody>\n</table>\n</div>"
     },
     "execution_count": 15,
     "metadata": {},
     "output_type": "execute_result"
    },
    {
     "name": "stderr",
     "output_type": "stream",
     "text": [
      "/opt/homebrew/Caskroom/miniforge/base/envs/simtest/lib/python3.10/site-packages/scipy/stats/_continuous_distns.py:4858: IntegrationWarning: The integral is probably divergent, or slowly convergent.\n",
      "  intg = integrate.quad(f, -xi, np.pi/2, **intg_kwargs)[0]\n"
     ]
    },
    {
     "data": {
      "text/plain": "<Figure size 432x288 with 1 Axes>",
      "image/png": "[encoded data removed]"
     },
     "metadata": {
      "needs_background": "light"
     },
     "output_type": "display_data"
    }
   ],
   "source": [
    "h = Fitter(sc_time_per_item)\n",
    "h.fit()\n",
    "h.summary()"
   ],
   "metadata": {
    "collapsed": false,
    "pycharm": {
     "name": "#%%\n"
    }
   }
  },
  {
   "cell_type": "code",
   "execution_count": 16,
   "outputs": [
    {
     "data": {
      "text/plain": "{'gumbel_r': {'loc': 11.224246069610276, 'scale': 6.208811868891992}}"
     },
     "execution_count": 16,
     "metadata": {},
     "output_type": "execute_result"
    }
   ],
   "source": [
    "h.get_best(method='sumsquare_error')"
   ],
   "metadata": {
    "collapsed": false,
    "pycharm": {
     "name": "#%%\n"
    }
   }
  },
  {
   "cell_type": "code",
   "execution_count": null,
   "outputs": [],
   "source": [],
   "metadata": {
    "collapsed": false,
    "pycharm": {
     "name": "#%%\n"
    }
   }
  }
 ],
 "metadata": {
  "kernelspec": {
   "display_name": "Python 3",
   "language": "python",
   "name": "python3"
  },
  "language_info": {
   "codemirror_mode": {
    "name": "ipython",
    "version": 2
   },
   "file_extension": ".py",
   "mimetype": "text/x-python",
   "name": "python",
   "nbconvert_exporter": "python",
   "pygments_lexer": "ipython2",
   "version": "2.7.6"
  }
 },
 "nbformat": 4,
 "nbformat_minor": 0
}